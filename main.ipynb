{
 "cells": [
  {
   "cell_type": "markdown",
   "metadata": {},
   "source": [
    "## Import modules"
   ]
  },
  {
   "cell_type": "code",
   "execution_count": 10,
   "metadata": {},
   "outputs": [],
   "source": [
    "import pandas as pd\n",
    "import numpy as np\n",
    "import sklearn.preprocessing as pp\n",
    "\n",
    "# pd.option show rows and cols data of df\n",
    "pd.set_option(\"display.max_rows\", 10)\n",
    "pd.set_option(\"display.max_columns\", 30)"
   ]
  },
  {
   "cell_type": "markdown",
   "metadata": {},
   "source": [
    "## Create compelete dataset"
   ]
  },
  {
   "cell_type": "code",
   "execution_count": null,
   "metadata": {},
   "outputs": [],
   "source": [
    "# File's year\n",
    "data_years = [\"2017\",\"2018\",\"2019\",\"2020\",\"2021\",\"2022\"]\n",
    "\n",
    "# Create empty dataframe\n",
    "df = pd.DataFrame()\n",
    "\n",
    "# Concatenate dataframes\n",
    "def create_dataset(df):\n",
    "    for year in data_years:\n",
    "        # save the csv file in ./dataset folder\n",
    "        path = f'./dataset/{year}_lake_data.csv'\n",
    "\n",
    "        df_temp = pd.read_csv(path)\n",
    "        df_temp[\"year\"] = year\n",
    "        df = pd.concat([df,df_temp])\n",
    "    return df\n",
    "\n",
    "df = create_dataset(df)\n",
    "\n",
    "df.info()\n",
    "df.head()"
   ]
  },
  {
   "cell_type": "code",
   "execution_count": null,
   "metadata": {},
   "outputs": [],
   "source": [
    "# if value = \"BDL\" (Blow Detection Limit) convert it to 0\n",
    "df.replace({\"BDL\": 0},inplace=True)\n",
    "\n",
    "# if value = \"-\", just set it to NaN\n",
    "df.replace({\"-\": np.nan}, inplace=True)\n",
    "df"
   ]
  },
  {
   "cell_type": "code",
   "execution_count": null,
   "metadata": {},
   "outputs": [],
   "source": [
    "from matplotlib import axis\n",
    "import pandas as pd\n",
    "\n",
    "# Get labels\n",
    "df_location = df.iloc[:,0:4]\n",
    "df_year  = df.iloc[:,-1:]\n",
    "df_label = pd.concat([df_location,df_year],axis=1)\n",
    "\n",
    "# Get datas\n",
    "df_data = df.iloc[:,4:-1]\n",
    "\n"
   ]
  },
  {
   "cell_type": "markdown",
   "metadata": {},
   "source": [
    "## Normalization column"
   ]
  },
  {
   "cell_type": "markdown",
   "metadata": {},
   "source": [
    "### Min-Max (0-1)"
   ]
  }
 ],
 "metadata": {
  "kernelspec": {
   "display_name": "pytorch",
   "language": "python",
   "name": "python3"
  },
  "language_info": {
   "codemirror_mode": {
    "name": "ipython",
    "version": 3
   },
   "file_extension": ".py",
   "mimetype": "text/x-python",
   "name": "python",
   "nbconvert_exporter": "python",
   "pygments_lexer": "ipython3",
   "version": "3.12.4"
  }
 },
 "nbformat": 4,
 "nbformat_minor": 2
}
