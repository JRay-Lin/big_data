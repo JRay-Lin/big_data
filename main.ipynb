{
 "cells": [
  {
   "cell_type": "markdown",
   "metadata": {},
   "source": [
    "## Import modules"
   ]
  },
  {
   "cell_type": "code",
   "execution_count": 48,
   "metadata": {},
   "outputs": [],
   "source": [
    "import pandas as pd\n",
    "import numpy as np\n",
    "import sklearn.preprocessing as pp\n",
    "\n",
    "# pd.option show rows and cols data of df\n",
    "pd.set_option(\"display.max_rows\", 5)\n",
    "pd.set_option(\"display.max_columns\", 20)"
   ]
  },
  {
   "cell_type": "markdown",
   "metadata": {},
   "source": [
    "## Create compelete dataset"
   ]
  },
  {
   "cell_type": "code",
   "execution_count": null,
   "metadata": {},
   "outputs": [],
   "source": [
    "# File's year\n",
    "data_years = [\"2017\",\"2018\",\"2019\",\"2020\",\"2021\",\"2022\"]\n",
    "\n",
    "# Create empty dataframe\n",
    "df = pd.DataFrame()\n",
    "\n",
    "# Concatenate dataframes\n",
    "def create_dataset(df):\n",
    "    for year in data_years:\n",
    "        # save the csv file in ./dataset folder\n",
    "        path = f'./dataset/{year}_lake_data.csv'\n",
    "\n",
    "        df_temp = pd.read_csv(path)\n",
    "        df_temp[\"year\"] = year\n",
    "        df = pd.concat([df,df_temp])\n",
    "    return df\n",
    "\n",
    "df = create_dataset(df)\n",
    "\n",
    "df.info()\n",
    "df.head()"
   ]
  },
  {
   "cell_type": "code",
   "execution_count": 50,
   "metadata": {},
   "outputs": [],
   "source": [
    "# if value = \"BDL\" (Blow Detection Limit) convert it to 0\n",
    "df.replace({\"BDL\": 0},inplace=True)\n",
    "\n",
    "# if value = \"-\", just set it to NaN\n",
    "df.replace({\"-\": np.nan}, inplace=True)"
   ]
  },
  {
   "cell_type": "code",
   "execution_count": null,
   "metadata": {},
   "outputs": [],
   "source": [
    "# Get labels\n",
    "df_location = df.iloc[:,0:4]\n",
    "df_year  = df.iloc[:,-1:]\n",
    "df_label = pd.concat([df_location,df_year],axis=1)\n",
    "\n",
    "# Get datas\n",
    "df_data = df.iloc[:,4:-1]\n",
    "\n",
    "\n",
    "# Ensure all datas are numeric\n",
    "df_data = df_data.apply(pd.to_numeric, errors='coerce')\n",
    "df_data\n"
   ]
  },
  {
   "cell_type": "markdown",
   "metadata": {},
   "source": [
    "## Normalization column"
   ]
  },
  {
   "cell_type": "code",
   "execution_count": 52,
   "metadata": {},
   "outputs": [],
   "source": [
    "# Fill NaN data with mean of the col\n",
    "df_data.fillna(df_data.mean(), inplace=True)\n",
    "\n",
    "def create_normalized_DataFrame(data,label=df_label):\n",
    "    dataframe = pd.DataFrame(data=data, columns=df_data.columns)\n",
    "    dataframe = pd.concat([label.reset_index(),dataframe], axis=1)\n",
    "    dataframe.drop(['index'], axis=1, inplace=True)\n",
    "    return dataframe"
   ]
  },
  {
   "cell_type": "markdown",
   "metadata": {},
   "source": [
    "### Scaled"
   ]
  },
  {
   "cell_type": "code",
   "execution_count": null,
   "metadata": {},
   "outputs": [],
   "source": [
    "## Scaled\n",
    "scaled_normalized = pp.scale(df_data)\n",
    "\n",
    "df_scaled = create_normalized_DataFrame(scaled_normalized)\n",
    "df_scaled"
   ]
  },
  {
   "cell_type": "markdown",
   "metadata": {},
   "source": [
    "### Min-Max (0-1)"
   ]
  },
  {
   "cell_type": "code",
   "execution_count": null,
   "metadata": {},
   "outputs": [],
   "source": [
    "minmax_normalized = pp.normalize(df_data)\n",
    "df_minmax = create_normalized_DataFrame(minmax_normalized)\n",
    "df_minmax"
   ]
  },
  {
   "cell_type": "markdown",
   "metadata": {},
   "source": [
    "### Binarized"
   ]
  },
  {
   "cell_type": "code",
   "execution_count": null,
   "metadata": {},
   "outputs": [],
   "source": [
    "binary_normalized = pp.binarize(scaled_normalized)\n",
    "\n",
    "df_binarized = create_normalized_DataFrame(binary_normalized)\n",
    "df_binarized"
   ]
  }
 ],
 "metadata": {
  "kernelspec": {
   "display_name": "pytorch",
   "language": "python",
   "name": "python3"
  },
  "language_info": {
   "codemirror_mode": {
    "name": "ipython",
    "version": 3
   },
   "file_extension": ".py",
   "mimetype": "text/x-python",
   "name": "python",
   "nbconvert_exporter": "python",
   "pygments_lexer": "ipython3",
   "version": "3.12.4"
  }
 },
 "nbformat": 4,
 "nbformat_minor": 2
}
